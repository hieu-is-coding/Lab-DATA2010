{
  "cells": [
    {
      "cell_type": "markdown",
      "metadata": {},
      "source": [
        "# Week 1 Tasks - Data Science Programming\n",
        "\n",
        "**Student Name:** [Your Name Here]\n",
        "**Date:** [Date]\n",
        "\n",
        "This notebook contains solutions to all Week 1 tasks using the `student_scores.csv` dataset.\n"
      ]
    },
    {
      "cell_type": "markdown",
      "metadata": {},
      "source": [
        "## Task 1 – Hello World\n",
        "\n",
        "Write a program that prints: \"Welcome to Data Science Programming!\"\n"
      ]
    },
    {
      "cell_type": "code",
      "execution_count": null,
      "metadata": {},
      "outputs": [],
      "source": [
        "# Task 1: Hello World\n",
        "# Write your code here\n"
      ]
    },
    {
      "cell_type": "markdown",
      "metadata": {},
      "source": [
        "## Task 2 – Simple Math\n",
        "\n",
        "Calculate and print the result of:\n",
        "- 15 + 23\n",
        "- 120 / 6  \n",
        "- 5³ (5 to the power of 3)\n"
      ]
    },
    {
      "cell_type": "code",
      "execution_count": null,
      "metadata": {},
      "outputs": [],
      "source": [
        "# Task 2: Simple Math\n",
        "# Write your code here\n"
      ]
    },
    {
      "cell_type": "markdown",
      "metadata": {},
      "source": [
        "## Task 3 – Variables and Lists\n",
        "\n",
        "Create a list of 5 numbers: `[10, 20, 30, 40, 50]`.\n",
        "\n",
        "Print the list and the sum of its elements.\n"
      ]
    },
    {
      "cell_type": "code",
      "execution_count": null,
      "metadata": {},
      "outputs": [],
      "source": [
        "# Task 3: Variables and Lists\n",
        "# Write your code here\n"
      ]
    },
    {
      "cell_type": "markdown",
      "metadata": {},
      "source": [
        "## Task 4 – Plot Squares\n",
        "\n",
        "Create a list of numbers from 1 to 10.\n",
        "\n",
        "Plot the numbers against their squares using matplotlib.\n"
      ]
    },
    {
      "cell_type": "code",
      "execution_count": null,
      "metadata": {},
      "outputs": [],
      "source": [
        "# Task 4: Plot Squares\n",
        "# Import required libraries\n",
        "import matplotlib.pyplot as plt\n",
        "\n",
        "# Write your code here\n"
      ]
    },
    {
      "cell_type": "markdown",
      "metadata": {},
      "source": [
        "## Task 5 – Load Dataset\n",
        "\n",
        "Load `student_scores.csv` into your program.\n",
        "\n",
        "Display the first 5 rows.\n"
      ]
    },
    {
      "cell_type": "code",
      "execution_count": null,
      "metadata": {},
      "outputs": [],
      "source": [
        "# Task 5: Load Dataset\n",
        "# Import required libraries\n",
        "import pandas as pd\n",
        "\n",
        "# Write your code here\n"
      ]
    },
    {
      "cell_type": "markdown",
      "metadata": {},
      "source": [
        "## Task 6 – Summary Statistics\n",
        "\n",
        "Print the average (mean) of the `Score` column.\n",
        "\n",
        "Print the minimum and maximum scores.\n"
      ]
    },
    {
      "cell_type": "code",
      "execution_count": null,
      "metadata": {},
      "outputs": [],
      "source": [
        "# Task 6: Summary Statistics\n",
        "# Write your code here\n"
      ]
    },
    {
      "cell_type": "markdown",
      "metadata": {},
      "source": [
        "## Task 7 – Filtering Data\n",
        "\n",
        "Find and print the names of students who scored greater than 80.\n"
      ]
    },
    {
      "cell_type": "code",
      "execution_count": null,
      "metadata": {},
      "outputs": [],
      "source": [
        "# Task 7: Filtering Data\n",
        "# Write your code here\n"
      ]
    },
    {
      "cell_type": "markdown",
      "metadata": {},
      "source": [
        "## Task 8 – Sorting Data\n",
        "\n",
        "Sort the dataset by `Score` in descending order.\n",
        "\n",
        "Display the top 3 students.\n"
      ]
    },
    {
      "cell_type": "code",
      "execution_count": null,
      "metadata": {},
      "outputs": [],
      "source": [
        "# Task 8: Sorting Data\n",
        "# Write your code here\n"
      ]
    },
    {
      "cell_type": "markdown",
      "metadata": {},
      "source": [
        "## Task 9 – Visualization\n",
        "\n",
        "Create a histogram of scores.\n",
        "\n",
        "Add appropriate title and axis labels.\n"
      ]
    },
    {
      "cell_type": "code",
      "execution_count": null,
      "metadata": {},
      "outputs": [],
      "source": [
        "# Task 9: Visualization\n",
        "# Write your code here\n"
      ]
    },
    {
      "cell_type": "markdown",
      "metadata": {},
      "source": [
        "---\n",
        "\n",
        "## Submission Notes\n",
        "\n",
        "- Ensure all cells run without errors\n",
        "- Include appropriate comments in your code\n",
        "- Make sure plots are properly displayed\n",
        "- Save and submit this notebook as `Week1_Tasks.ipynb`\n"
      ]
    }
  ],
  "metadata": {
    "language_info": {
      "name": "python"
    }
  },
  "nbformat": 4,
  "nbformat_minor": 2
}
