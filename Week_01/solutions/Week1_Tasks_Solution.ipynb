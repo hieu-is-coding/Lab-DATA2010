{
  "cells": [
    {
      "cell_type": "markdown",
      "metadata": {},
      "source": [
        "# Week 1 Tasks - Data Science Programming (SOLUTION)\n",
        "\n",
        "**Student Name:** [Your Name Here]\n",
        "**Date:** [Date]\n",
        "\n",
        "This notebook contains complete solutions to all Week 1 tasks using the `student_scores.csv` dataset.\n"
      ]
    },
    {
      "cell_type": "markdown",
      "metadata": {},
      "source": [
        "## Task 1 – Hello World\n",
        "\n",
        "Write a program that prints: \"Welcome to Data Science Programming!\"\n"
      ]
    },
    {
      "cell_type": "code",
      "execution_count": null,
      "metadata": {},
      "outputs": [],
      "source": [
        "# Task 1: Hello World\n",
        "print(\"Welcome to Data Science Programming!\")\n"
      ]
    },
    {
      "cell_type": "markdown",
      "metadata": {},
      "source": [
        "## Task 2 – Simple Math\n",
        "\n",
        "Calculate and print the result of:\n",
        "- 15 + 23\n",
        "- 120 / 6  \n",
        "- 5³ (5 to the power of 3)\n"
      ]
    },
    {
      "cell_type": "code",
      "execution_count": null,
      "metadata": {},
      "outputs": [],
      "source": [
        "# Task 2: Simple Math\n",
        "print(\"15 + 23 =\", 15 + 23)\n",
        "print(\"120 / 6 =\", 120 / 6)\n",
        "print(\"5^3 =\", 5**3)\n"
      ]
    },
    {
      "cell_type": "markdown",
      "metadata": {},
      "source": [
        "## Task 3 – Variables and Lists\n",
        "\n",
        "Create a list of 5 numbers: `[10, 20, 30, 40, 50]`.\n",
        "\n",
        "Print the list and the sum of its elements.\n"
      ]
    },
    {
      "cell_type": "code",
      "execution_count": null,
      "metadata": {},
      "outputs": [],
      "source": [
        "# Task 3: Variables and Lists\n",
        "numbers = [10, 20, 30, 40, 50]\n",
        "print(\"List:\", numbers)\n",
        "print(\"Sum of elements:\", sum(numbers))\n"
      ]
    },
    {
      "cell_type": "markdown",
      "metadata": {},
      "source": [
        "## Task 4 – Plot Squares\n",
        "\n",
        "Create a list of numbers from 1 to 10.\n",
        "\n",
        "Plot the numbers against their squares using matplotlib.\n"
      ]
    },
    {
      "cell_type": "code",
      "execution_count": null,
      "metadata": {},
      "outputs": [],
      "source": [
        "# Task 4: Plot Squares\n",
        "# Import required libraries\n",
        "import matplotlib.pyplot as plt\n",
        "\n",
        "# Create list of numbers from 1 to 10\n",
        "numbers = list(range(1, 11))\n",
        "squares = [x**2 for x in numbers]\n",
        "\n",
        "# Create the plot\n",
        "plt.figure(figsize=(8, 6))\n",
        "plt.plot(numbers, squares, 'bo-', linewidth=2, markersize=8)\n",
        "plt.xlabel('Numbers')\n",
        "plt.ylabel('Squares')\n",
        "plt.title('Numbers vs Their Squares')\n",
        "plt.grid(True, alpha=0.3)\n",
        "plt.show()\n"
      ]
    },
    {
      "cell_type": "markdown",
      "metadata": {},
      "source": [
        "## Task 5 – Load Dataset\n",
        "\n",
        "Load `student_scores.csv` into your program.\n",
        "\n",
        "Display the first 5 rows.\n"
      ]
    },
    {
      "cell_type": "code",
      "execution_count": null,
      "metadata": {},
      "outputs": [],
      "source": [
        "# Task 5: Load Dataset\n",
        "# Import required libraries\n",
        "import pandas as pd\n",
        "\n",
        "# Load the dataset\n",
        "df = pd.read_csv('../examples/student_scores.csv')\n",
        "\n",
        "# Display the first 5 rows\n",
        "print(\"First 5 rows of the dataset:\")\n",
        "print(df.head())\n",
        "\n",
        "# Also display basic info about the dataset\n",
        "print(\"\\nDataset shape:\", df.shape)\n",
        "print(\"\\nColumn names:\", df.columns.tolist())\n"
      ]
    },
    {
      "cell_type": "markdown",
      "metadata": {},
      "source": [
        "## Task 6 – Summary Statistics\n",
        "\n",
        "Print the average (mean) of the `Score` column.\n",
        "\n",
        "Print the minimum and maximum scores.\n"
      ]
    },
    {
      "cell_type": "code",
      "execution_count": null,
      "metadata": {},
      "outputs": [],
      "source": [
        "# Task 6: Summary Statistics\n",
        "# Calculate and print the mean score\n",
        "mean_score = df['Score'].mean()\n",
        "print(f\"Average (mean) score: {mean_score:.2f}\")\n",
        "\n",
        "# Calculate and print min and max scores\n",
        "min_score = df['Score'].min()\n",
        "max_score = df['Score'].max()\n",
        "print(f\"Minimum score: {min_score}\")\n",
        "print(f\"Maximum score: {max_score}\")\n",
        "\n",
        "# Additional summary statistics\n",
        "print(\"\\nComplete summary statistics:\")\n",
        "print(df['Score'].describe())\n"
      ]
    },
    {
      "cell_type": "markdown",
      "metadata": {},
      "source": [
        "## Task 7 – Filtering Data\n",
        "\n",
        "Find and print the names of students who scored greater than 80.\n"
      ]
    },
    {
      "cell_type": "code",
      "execution_count": null,
      "metadata": {},
      "outputs": [],
      "source": [
        "# Task 7: Filtering Data\n",
        "# Filter students with scores > 80\n",
        "high_scorers = df[df['Score'] > 80]\n",
        "\n",
        "print(\"Students who scored greater than 80:\")\n",
        "print(high_scorers[['Name', 'Score']])\n",
        "\n",
        "# Alternative: just print the names\n",
        "print(\"\\nNames of high scorers:\")\n",
        "for name in high_scorers['Name']:\n",
        "    print(f\"- {name}\")\n"
      ]
    },
    {
      "cell_type": "markdown",
      "metadata": {},
      "source": [
        "## Task 8 – Sorting Data\n",
        "\n",
        "Sort the dataset by `Score` in descending order.\n",
        "\n",
        "Display the top 3 students.\n"
      ]
    },
    {
      "cell_type": "code",
      "execution_count": null,
      "metadata": {},
      "outputs": [],
      "source": [
        "# Task 8: Sorting Data\n",
        "# Sort by Score in descending order\n",
        "df_sorted = df.sort_values('Score', ascending=False)\n",
        "\n",
        "print(\"Dataset sorted by score (descending):\")\n",
        "print(df_sorted)\n",
        "\n",
        "print(\"\\nTop 3 students:\")\n",
        "print(df_sorted.head(3)[['Name', 'Score']])\n"
      ]
    },
    {
      "cell_type": "markdown",
      "metadata": {},
      "source": [
        "## Task 9 – Visualization\n",
        "\n",
        "Create a histogram of scores.\n",
        "\n",
        "Add appropriate title and axis labels.\n"
      ]
    },
    {
      "cell_type": "code",
      "execution_count": null,
      "metadata": {},
      "outputs": [],
      "source": [
        "# Task 9: Visualization\n",
        "# Create histogram of scores\n",
        "plt.figure(figsize=(10, 6))\n",
        "plt.hist(df['Score'], bins=10, edgecolor='black', alpha=0.7, color='skyblue')\n",
        "plt.xlabel('Score')\n",
        "plt.ylabel('Frequency')\n",
        "plt.title('Distribution of Student Scores')\n",
        "plt.grid(True, alpha=0.3)\n",
        "\n",
        "# Add some statistics to the plot\n",
        "mean_score = df['Score'].mean()\n",
        "plt.axvline(mean_score, color='red', linestyle='--', linewidth=2, label=f'Mean: {mean_score:.1f}')\n",
        "plt.legend()\n",
        "\n",
        "plt.tight_layout()\n",
        "plt.show()\n"
      ]
    },
    {
      "cell_type": "markdown",
      "metadata": {},
      "source": [
        "---\n",
        "\n",
        "## Additional Analysis (Bonus)\n",
        "\n",
        "Let's add some additional insights to make the analysis more comprehensive:\n"
      ]
    },
    {
      "cell_type": "code",
      "execution_count": null,
      "metadata": {},
      "outputs": [],
      "source": [
        "# Additional Analysis\n",
        "print(\"=== COMPREHENSIVE DATA ANALYSIS ===\\n\")\n",
        "\n",
        "# 1. Basic dataset information\n",
        "print(f\"Total number of students: {len(df)}\")\n",
        "print(f\"Score range: {df['Score'].min()} - {df['Score'].max()}\")\n",
        "print(f\"Score standard deviation: {df['Score'].std():.2f}\")\n",
        "\n",
        "# 2. Grade distribution\n",
        "print(\"\\nGrade Distribution:\")\n",
        "if df['Score'].max() <= 100:\n",
        "    df['Grade'] = pd.cut(df['Score'], bins=[0, 60, 70, 80, 90, 100], \n",
        "                        labels=['F', 'D', 'C', 'B', 'A'], include_lowest=True)\n",
        "    print(df['Grade'].value_counts().sort_index())\n",
        "\n",
        "# 3. Performance categories\n",
        "print(\"\\nPerformance Categories:\")\n",
        "df['Performance'] = pd.cut(df['Score'], bins=[0, 70, 85, 100], \n",
        "                          labels=['Below Average', 'Average', 'Above Average'], include_lowest=True)\n",
        "print(df['Performance'].value_counts())\n",
        "\n",
        "# 4. Show all students with their performance\n",
        "print(\"\\nAll Students with Performance:\")\n",
        "result_df = df[['Name', 'Score']].copy()\n",
        "result_df['Performance'] = df['Performance']\n",
        "print(result_df.sort_values('Score', ascending=False))\n"
      ]
    },
    {
      "cell_type": "markdown",
      "metadata": {},
      "source": [
        "---\n",
        "\n",
        "## Submission Notes\n",
        "\n",
        "- All cells run without errors\n",
        "- Appropriate comments included in the code\n",
        "- Plots are properly displayed with titles and labels\n",
        "- Additional analysis provided for comprehensive understanding\n",
        "- Solution saved as `Week1_Tasks_Solution.ipynb`\n"
      ]
    }
  ],
  "metadata": {
    "language_info": {
      "name": "python"
    }
  },
  "nbformat": 4,
  "nbformat_minor": 2
}
