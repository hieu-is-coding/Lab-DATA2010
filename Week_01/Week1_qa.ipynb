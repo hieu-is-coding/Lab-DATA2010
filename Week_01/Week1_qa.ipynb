{
  "nbformat": 4,
  "nbformat_minor": 0,
  "metadata": {
    "colab": {
      "provenance": []
    },
    "kernelspec": {
      "name": "python3",
      "display_name": "Python 3"
    },
    "language_info": {
      "name": "python"
    }
  },
  "cells": [
    {
      "cell_type": "markdown",
      "source": [
        "Student name: [Your-name-here]"
      ],
      "metadata": {
        "id": "SyuC01Q5augf"
      }
    },
    {
      "cell_type": "markdown",
      "source": [
        "Student ID: [Your-student-id-here]"
      ],
      "metadata": {
        "id": "lt_L4Jeta0B0"
      }
    },
    {
      "cell_type": "markdown",
      "source": [
        "Q1: Which programming language is most widely used in modern data science because of its simplicity and rich ecosystem?\n",
        "\n",
        "A. C++\n",
        "\n",
        "B. Python\n",
        "\n",
        "C. Java\n",
        "\n",
        "D. PHP"
      ],
      "metadata": {
        "id": "S_9gIj5PaalV"
      }
    },
    {
      "cell_type": "code",
      "source": [],
      "metadata": {
        "id": "mztbAQfnacaj"
      },
      "execution_count": null,
      "outputs": []
    },
    {
      "cell_type": "markdown",
      "source": [
        "Q2: Which R package is widely used for data visualization?\n",
        "\n",
        "A. ggplot2\n",
        "\n",
        "B. NumPy\n",
        "\n",
        "C. scikit-learn\n",
        "\n",
        "D. TensorFlow\n"
      ],
      "metadata": {
        "id": "XPhZ6oEHadQS"
      }
    },
    {
      "cell_type": "code",
      "source": [],
      "metadata": {
        "id": "v7f5fCc6ae2f"
      },
      "execution_count": null,
      "outputs": []
    },
    {
      "cell_type": "markdown",
      "source": [
        "Q3: Which Python library is mainly used for numerical computing (arrays, matrices, mathematical operations)?\n",
        "\n",
        "A. pandas\n",
        "\n",
        "B. NumPy\n",
        "\n",
        "C. seaborn\n",
        "\n",
        "D. scikit-learn"
      ],
      "metadata": {
        "id": "7Xtpk6Y9agbn"
      }
    },
    {
      "cell_type": "code",
      "source": [],
      "metadata": {
        "id": "DZVRP60Nahcu"
      },
      "execution_count": null,
      "outputs": []
    },
    {
      "cell_type": "markdown",
      "source": [
        "Q4: Which tool is primarily used for interactive coding, data visualization, and sharing notebooks in Python?\n",
        "\n",
        "A. GitHub\n",
        "\n",
        "B. Jupyter Notebook\n",
        "\n",
        "C. RStudio\n",
        "\n",
        "D. Docker"
      ],
      "metadata": {
        "id": "d25Xdg7lahyM"
      }
    },
    {
      "cell_type": "code",
      "source": [],
      "metadata": {
        "id": "6y7W5z8_aijR"
      },
      "execution_count": null,
      "outputs": []
    },
    {
      "cell_type": "markdown",
      "source": [
        "Q5: Which language is essential for querying and working with relational databases?\n",
        "\n",
        "A. SQL\n",
        "\n",
        "B. Python\n",
        "\n",
        "C. R\n",
        "\n",
        "D. JavaScript\n"
      ],
      "metadata": {
        "id": "jgBun36Jai3E"
      }
    },
    {
      "cell_type": "code",
      "source": [],
      "metadata": {
        "id": "wmcksWu8aj5B"
      },
      "execution_count": null,
      "outputs": []
    },
    {
      "cell_type": "markdown",
      "source": [
        "\n",
        "Q6: Which deep learning framework is originally developed by Facebook AI Research?\n",
        "\n",
        "A. TensorFlow\n",
        "\n",
        "B. PyTorch\n",
        "\n",
        "C. Keras\n",
        "\n",
        "D. MXNet"
      ],
      "metadata": {
        "id": "GYTdEtz6akkr"
      }
    },
    {
      "cell_type": "code",
      "source": [],
      "metadata": {
        "id": "fNcvEQibalka"
      },
      "execution_count": null,
      "outputs": []
    },
    {
      "cell_type": "markdown",
      "source": [
        "Q7: Which tool is an Integrated Development Environment (IDE) designed specifically for R?\n",
        "\n",
        "A. VS Code\n",
        "\n",
        "B. PyCharm\n",
        "\n",
        "C. RStudio\n",
        "\n",
        "D. Eclipse"
      ],
      "metadata": {
        "id": "HhbTL_GSal3w"
      }
    },
    {
      "cell_type": "code",
      "source": [],
      "metadata": {
        "id": "hS5vY-jTamx2"
      },
      "execution_count": null,
      "outputs": []
    },
    {
      "cell_type": "markdown",
      "source": [
        "Q8: Which Python library is commonly used for machine learning tasks such as classification, regression, and clustering?\n",
        "\n",
        "A. TensorFlow\n",
        "\n",
        "B. scikit-learn\n",
        "\n",
        "C. spaCy\n",
        "\n",
        "D. NLTK"
      ],
      "metadata": {
        "id": "pDILxz_vanLm"
      }
    },
    {
      "cell_type": "code",
      "source": [],
      "metadata": {
        "id": "F3KSVK1Zao3L"
      },
      "execution_count": null,
      "outputs": []
    },
    {
      "cell_type": "markdown",
      "source": [
        "Q9: Which of the following is a workflow orchestration tool often used in data pipelines?\n",
        "\n",
        "A. Docker\n",
        "\n",
        "B. Airflow\n",
        "\n",
        "C. Git\n",
        "\n",
        "D. Kubernetes"
      ],
      "metadata": {
        "id": "wzBGQjLLapSw"
      }
    },
    {
      "cell_type": "code",
      "source": [],
      "metadata": {
        "id": "FEkTcugQaqZR"
      },
      "execution_count": null,
      "outputs": []
    },
    {
      "cell_type": "markdown",
      "source": [
        "Q10: Which tool is commonly used for version control in data science projects?\n",
        "\n",
        "A. Hadoop\n",
        "\n",
        "B. Kubernetes\n",
        "\n",
        "C. Git\n",
        "\n",
        "D. MongoDB"
      ],
      "metadata": {
        "id": "PSyOgt4Caqtk"
      }
    },
    {
      "cell_type": "code",
      "source": [],
      "metadata": {
        "id": "idO6D-gcaryZ"
      },
      "execution_count": null,
      "outputs": []
    }
  ]
}