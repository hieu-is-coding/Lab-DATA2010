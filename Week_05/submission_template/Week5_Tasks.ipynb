{
  "cells": [
    {
      "cell_type": "markdown",
      "metadata": {},
      "source": [
        "# Week 5 Tasks — Data Visualization in Python\n",
        "\n",
        "Use this template to complete Week 5 tasks. Replace placeholders with your work. Ensure the notebook runs top-to-bottom without errors. Add short captions/annotations below each plot.\n"
      ]
    },
    {
      "cell_type": "code",
      "execution_count": null,
      "metadata": {},
      "outputs": [],
      "source": [
        "# Setup\n",
        "import sys\n",
        "import warnings\n",
        "warnings.filterwarnings('ignore')\n",
        "\n",
        "import numpy as np\n",
        "import pandas as pd\n",
        "import seaborn as sns\n",
        "import matplotlib.pyplot as plt\n",
        "\n",
        "sns.set_theme(style='whitegrid')\n",
        "%matplotlib inline\n"
      ]
    },
    {
      "cell_type": "code",
      "execution_count": null,
      "metadata": {},
      "outputs": [],
      "source": [
        "# Task 1 — Setup and Data Loading\n",
        "# TODO: Load your dataset\n",
        "# Example:\n",
        "# df = pd.read_csv('path/to/your.csv', parse_dates=['date_col'])\n",
        "# df.head(10)\n"
      ]
    },
    {
      "cell_type": "markdown",
      "metadata": {},
      "source": [
        "Briefly describe the dataset and variables here.\n"
      ]
    },
    {
      "cell_type": "code",
      "execution_count": null,
      "metadata": {},
      "outputs": [],
      "source": [
        "# Task 2 — Univariate Visualizations\n",
        "# Example histogram/density for a numeric variable\n",
        "# sns.histplot(df['numeric_col'], bins=30, kde=True)\n",
        "# plt.title('Distribution of numeric_col')\n",
        "# plt.show()\n"
      ]
    },
    {
      "cell_type": "markdown",
      "metadata": {},
      "source": [
        "Key takeaway:\n"
      ]
    },
    {
      "cell_type": "code",
      "execution_count": null,
      "metadata": {},
      "outputs": [],
      "source": [
        "# Example bar plot for a categorical variable\n",
        "# (df['category']\n",
        "#   .value_counts()\n",
        "#   .plot(kind='bar', color='#7fcdbb'))\n",
        "# plt.title('Counts by category')\n",
        "# plt.xlabel('Category')\n",
        "# plt.ylabel('Count')\n",
        "# plt.show()\n"
      ]
    },
    {
      "cell_type": "markdown",
      "metadata": {},
      "source": [
        "Key takeaway:\n"
      ]
    },
    {
      "cell_type": "code",
      "execution_count": null,
      "metadata": {},
      "outputs": [],
      "source": [
        "# Task 3 — Bivariate Visualizations\n",
        "# Example scatter with regression line\n",
        "# sns.regplot(data=df, x='xvar', y='yvar', scatter_kws={'alpha':0.6}, line_kws={'color':'#fc8d59'})\n",
        "# plt.title('xvar vs yvar')\n",
        "# plt.show()\n"
      ]
    },
    {
      "cell_type": "markdown",
      "metadata": {},
      "source": [
        "Interpretation:\n"
      ]
    },
    {
      "cell_type": "code",
      "execution_count": null,
      "metadata": {},
      "outputs": [],
      "source": [
        "# Example violin/box by category\n",
        "# sns.violinplot(data=df, x='category', y='numeric_col', inner='box')\n",
        "# plt.title('numeric_col by category')\n",
        "# plt.show()\n"
      ]
    },
    {
      "cell_type": "markdown",
      "metadata": {},
      "source": [
        "Interpretation:\n"
      ]
    },
    {
      "cell_type": "code",
      "execution_count": null,
      "metadata": {},
      "outputs": [],
      "source": [
        "# Task 4 — Multivariate Visualizations\n",
        "# Example facets with seaborn\n",
        "# g = sns.FacetGrid(df, col='facet_var', hue='group', col_wrap=3, height=3, sharex=False, sharey=False)\n",
        "# g.map_dataframe(sns.scatterplot, x='xvar', y='yvar', alpha=0.6)\n",
        "# g.add_legend()\n",
        "# g.fig.suptitle('Relationship by facet_var', y=1.02)\n",
        "# plt.show()\n"
      ]
    },
    {
      "cell_type": "markdown",
      "metadata": {},
      "source": [
        "Short note:\n"
      ]
    },
    {
      "cell_type": "code",
      "execution_count": null,
      "metadata": {},
      "outputs": [],
      "source": [
        "# Task 5 — Temporal or Composition Analysis\n",
        "# Example time series plot (if applicable)\n",
        "# sns.lineplot(data=df, x='date_col', y='value', color='#2b8cbe')\n",
        "# plt.title('Value over time')\n",
        "# plt.xlabel('Date')\n",
        "# plt.ylabel('Value')\n",
        "# plt.show()\n"
      ]
    },
    {
      "cell_type": "code",
      "execution_count": null,
      "metadata": {},
      "outputs": [],
      "source": [
        "# Composition alternative if no time variable\n",
        "# comp = (df.groupby(['group','category']).size()\n",
        "#           .groupby(level=0).apply(lambda s: s/s.sum())\n",
        "#           .rename('p').reset_index())\n",
        "# sns.barplot(data=comp, x='group', y='p', hue='category')\n",
        "# plt.gca().yaxis.set_major_formatter(lambda x, _: f\"{x:.0%}\")\n",
        "# plt.title('Composition by group')\n",
        "# plt.show()\n"
      ]
    },
    {
      "cell_type": "markdown",
      "metadata": {},
      "source": [
        "# Task 6 — Geospatial (Bonus)\n",
        "If you have location data, consider a simple map (choropleth or points).\n"
      ]
    },
    {
      "cell_type": "markdown",
      "metadata": {},
      "source": [
        "# Task 7 — Aesthetics and Clarity\n",
        "List the style choices you made (titles, labels, themes, color choices).\n"
      ]
    },
    {
      "cell_type": "markdown",
      "metadata": {},
      "source": [
        "# Task 8 — Narrative and Reproducibility\n",
        "Write 5–10 sentences connecting the plots into a cohesive story and add final insights.\n"
      ]
    }
  ],
  "metadata": {
    "language_info": {
      "name": "python"
    }
  },
  "nbformat": 4,
  "nbformat_minor": 2
}
