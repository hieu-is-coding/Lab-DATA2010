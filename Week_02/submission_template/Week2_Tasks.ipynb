{
  "cells": [
    {
      "cell_type": "markdown",
      "metadata": {},
      "source": [
        "# Week 2 Tasks — Data Preparation, EDA, and Intro Modeling (Python)\n",
        "\n",
        "Use this template to complete Week 2 tasks. Replace placeholders with your work. Ensure the notebook runs top-to-bottom without errors. Add short captions/annotations below each plot and metric output.\n"
      ]
    },
    {
      "cell_type": "code",
      "execution_count": null,
      "metadata": {},
      "outputs": [],
      "source": [
        "# Setup\n",
        "import sys, warnings\n",
        "warnings.filterwarnings('ignore')\n",
        "\n",
        "import numpy as np\n",
        "import pandas as pd\n",
        "import seaborn as sns\n",
        "import matplotlib.pyplot as plt\n",
        "from sklearn.model_selection import train_test_split\n",
        "from sklearn.preprocessing import OneHotEncoder\n",
        "from sklearn.compose import ColumnTransformer\n",
        "from sklearn.pipeline import Pipeline\n",
        "from sklearn.linear_model import LogisticRegression, LinearRegression\n",
        "from sklearn.metrics import accuracy_score, f1_score, roc_auc_score, mean_squared_error, r2_score\n",
        "\n",
        "sns.set_theme(style='whitegrid')\n",
        "%matplotlib inline\n"
      ]
    },
    {
      "cell_type": "markdown",
      "metadata": {},
      "source": [
        "## Task 1 — Load Data and Inspect\n"
      ]
    },
    {
      "cell_type": "code",
      "execution_count": null,
      "metadata": {},
      "outputs": [],
      "source": [
        "# TODO: Set path and read your dataset\n",
        "# Example:\n",
        "# df = pd.read_csv('path/to/your.csv', parse_dates=['date_col'])\n",
        "# df.head(10)\n",
        "# df.shape\n"
      ]
    },
    {
      "cell_type": "markdown",
      "metadata": {},
      "source": [
        "Briefly describe the dataset, its purpose, and key variables.\n"
      ]
    },
    {
      "cell_type": "markdown",
      "metadata": {},
      "source": [
        "## Task 2 — Data Types, Summary Stats, and Missingness\n"
      ]
    },
    {
      "cell_type": "code",
      "execution_count": null,
      "metadata": {},
      "outputs": [],
      "source": [
        "# Column dtypes and corrections if needed\n",
        "# df.dtypes\n",
        "# Example: df['date_col'] = pd.to_datetime(df['date_col'], errors='coerce')\n",
        "\n",
        "# Summary statistics\n",
        "# df.describe(include='all').T\n",
        "\n",
        "# Missingness\n",
        "# (df.isna().sum().to_frame('n_missing')\n",
        "#    .assign(pct=lambda s: s['n_missing'] / len(df)))\n"
      ]
    },
    {
      "cell_type": "markdown",
      "metadata": {},
      "source": [
        "## Task 3 — Data Cleaning\n"
      ]
    },
    {
      "cell_type": "code",
      "execution_count": null,
      "metadata": {},
      "outputs": [],
      "source": [
        "# TODO: Handle missing values, duplicates, and standardize column names\n",
        "# df = df.drop_duplicates()\n",
        "# df.columns = df.columns.str.strip().str.lower().str.replace(' ', '_')\n",
        "# Example imputation: df['num_col'] = df['num_col'].fillna(df['num_col'].median())\n"
      ]
    },
    {
      "cell_type": "markdown",
      "metadata": {},
      "source": [
        "## Task 4 — Exploratory Data Analysis (EDA)\n"
      ]
    },
    {
      "cell_type": "code",
      "execution_count": null,
      "metadata": {},
      "outputs": [],
      "source": [
        "# Example univariate plot\n",
        "# sns.histplot(df['numeric_col'], bins=30, kde=True)\n",
        "# plt.title('Distribution of numeric_col')\n",
        "# plt.show()\n",
        "\n",
        "# Example bivariate plot\n",
        "# sns.regplot(data=df, x='xvar', y='yvar', scatter_kws={'alpha':0.6})\n",
        "# plt.title('xvar vs yvar')\n",
        "# plt.show()\n"
      ]
    },
    {
      "cell_type": "markdown",
      "metadata": {},
      "source": [
        "Write 3–5 short observations from EDA here.\n"
      ]
    },
    {
      "cell_type": "markdown",
      "metadata": {},
      "source": [
        "## Task 5 — Data Visualization\n"
      ]
    },
    {
      "cell_type": "code",
      "execution_count": null,
      "metadata": {},
      "outputs": [],
      "source": [
        "# Create at least 2 clear plots with captions below\n",
        "# sns.boxplot(data=df, x='category', y='numeric_col')\n",
        "# plt.title('numeric_col by category')\n",
        "# plt.show()\n"
      ]
    },
    {
      "cell_type": "markdown",
      "metadata": {},
      "source": [
        "Key takeaway:\n"
      ]
    },
    {
      "cell_type": "markdown",
      "metadata": {},
      "source": [
        "## Task 6 — Class Imbalance (if applicable)\n"
      ]
    },
    {
      "cell_type": "code",
      "execution_count": null,
      "metadata": {},
      "outputs": [],
      "source": [
        "# Inspect class distribution if you have a classification target\n",
        "# df['target'].value_counts(normalize=True)\n"
      ]
    },
    {
      "cell_type": "markdown",
      "metadata": {},
      "source": [
        "## Task 7 — Feature Engineering\n"
      ]
    },
    {
      "cell_type": "code",
      "execution_count": null,
      "metadata": {},
      "outputs": [],
      "source": [
        "# Example: create date parts, one-hot encode categories, bin numeric variables\n",
        "# df['month'] = df['date_col'].dt.month\n",
        "# df['desc_len'] = df['text_col'].str.len()\n"
      ]
    },
    {
      "cell_type": "markdown",
      "metadata": {},
      "source": [
        "## Task 8 — Baseline Modeling\n"
      ]
    },
    {
      "cell_type": "code",
      "execution_count": null,
      "metadata": {},
      "outputs": [],
      "source": [
        "# Example baseline for classification (edit for your dataset)\n",
        "# target = 'target'\n",
        "# numeric = ['num1','num2']\n",
        "# categorical = ['cat1','cat2']\n",
        "# X = df[numeric + categorical]\n",
        "# y = df[target]\n",
        "# X_train, X_test, y_train, y_test = train_test_split(X, y, test_size=0.2, random_state=42, stratify=y)\n",
        "\n",
        "# preproc = ColumnTransformer(\n",
        "#     [('cat', OneHotEncoder(handle_unknown='ignore'), categorical)],\n",
        "#     remainder='passthrough'\n",
        "# )\n",
        "# clf = Pipeline([('prep', preproc), ('model', LogisticRegression(max_iter=1000, class_weight='balanced'))])\n",
        "# clf.fit(X_train, y_train)\n",
        "# y_pred = clf.predict(X_test)\n",
        "# y_proba = getattr(clf, 'predict_proba', lambda X: None)(X_test)\n"
      ]
    },
    {
      "cell_type": "markdown",
      "metadata": {},
      "source": [
        "## Task 9 — Evaluation\n"
      ]
    },
    {
      "cell_type": "code",
      "execution_count": null,
      "metadata": {},
      "outputs": [],
      "source": [
        "# Example metrics (classification)\n",
        "# print('Accuracy:', accuracy_score(y_test, y_pred))\n",
        "# print('F1:', f1_score(y_test, y_pred, average='weighted'))\n",
        "# if y_proba is not None:\n",
        "#     try:\n",
        "#         print('AUROC:', roc_auc_score(y_test, y_proba[:,1]))\n",
        "#     except Exception:\n",
        "#         pass\n",
        "\n",
        "# Example metrics (regression)\n",
        "# preds = model.predict(X_test)\n",
        "# print('RMSE:', mean_squared_error(y_test, preds, squared=False))\n",
        "# print('R^2:', r2_score(y_test, preds))\n"
      ]
    },
    {
      "cell_type": "markdown",
      "metadata": {},
      "source": [
        "Provide a 2–4 sentence interpretation of the metrics and what they imply.\n"
      ]
    },
    {
      "cell_type": "markdown",
      "metadata": {},
      "source": [
        "## Task 10 — Findings and Next Steps\n"
      ]
    },
    {
      "cell_type": "markdown",
      "metadata": {},
      "source": [
        "Summarize 3–5 insights from EDA and modeling. Propose 2 concrete next steps to improve the analysis or model.\n"
      ]
    }
  ],
  "metadata": {
    "language_info": {
      "name": "python"
    }
  },
  "nbformat": 4,
  "nbformat_minor": 2
}
